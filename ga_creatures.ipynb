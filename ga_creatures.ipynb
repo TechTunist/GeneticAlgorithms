{
 "cells": [
  {
   "cell_type": "markdown",
   "id": "e82377a9",
   "metadata": {},
   "source": [
    "### IDEA: Experiment with the golden ratio for creating creatures"
   ]
  },
  {
   "cell_type": "code",
   "execution_count": 1,
   "id": "d1f4e225",
   "metadata": {},
   "outputs": [],
   "source": [
    "import pybullet as p\n",
    "import pybullet_data as pd"
   ]
  },
  {
   "cell_type": "code",
   "execution_count": 2,
   "id": "d5a832b2",
   "metadata": {},
   "outputs": [
    {
     "data": {
      "text/plain": [
       "0"
      ]
     },
     "execution_count": 2,
     "metadata": {},
     "output_type": "execute_result"
    }
   ],
   "source": [
    "# connect to a simulation environment\n",
    "# p.GUI is a real-time environment for visualisation purposes\n",
    "# for running myriad of epochs, an \"offline\" environment is needed\n",
    "\n",
    "p.connect(p.GUI)"
   ]
  },
  {
   "cell_type": "code",
   "execution_count": 3,
   "id": "1dc3922e",
   "metadata": {},
   "outputs": [],
   "source": [
    "# to prevent caching of urdf file that stops the updated version of a file being loaded\n",
    "p.setPhysicsEngineParameter(enableFileCaching=0)"
   ]
  },
  {
   "cell_type": "code",
   "execution_count": 4,
   "id": "25a0d9a7",
   "metadata": {},
   "outputs": [],
   "source": [
    "# get rid of the panels on the GUI to see the robots better\n",
    "p.configureDebugVisualizer(p.COV_ENABLE_GUI, 0)"
   ]
  },
  {
   "cell_type": "code",
   "execution_count": 5,
   "id": "a5700837",
   "metadata": {},
   "outputs": [],
   "source": [
    "# create a floor using prefixed geometries; GEOM_PLANE\n",
    "floor_shape = p.createCollisionShape(p.GEOM_PLANE)"
   ]
  },
  {
   "cell_type": "code",
   "execution_count": 6,
   "id": "34ade903",
   "metadata": {},
   "outputs": [],
   "source": [
    "# place the floor into the environment\n",
    "# input floor_shape x2 (for visual gemoetry and collision geometry)\n",
    "\n",
    "floor = p.createMultiBody(floor_shape, floor_shape)"
   ]
  },
  {
   "cell_type": "code",
   "execution_count": 43,
   "id": "e46f6f59",
   "metadata": {},
   "outputs": [],
   "source": [
    "# create new geometry for new object we will create\n",
    "# create GEOM_BOX and give it dimensions (halfExtents)\n",
    "\n",
    "# box_shape = p.createCollisionShape(p.GEOM_BOX, halfExtents=[1,1,1]) # 1,1,1 = cube"
   ]
  },
  {
   "cell_type": "code",
   "execution_count": 44,
   "id": "e2a85c56",
   "metadata": {},
   "outputs": [],
   "source": [
    "# create the box\n",
    "# box = p.createMultiBody(box_shape, box_shape)"
   ]
  },
  {
   "cell_type": "code",
   "execution_count": 9,
   "id": "5911153e",
   "metadata": {},
   "outputs": [],
   "source": [
    "# add gravity x,z,y values\n",
    "p.setGravity(0,0,-10) # -10 on the y value to simulate real gravity pulling downward"
   ]
  },
  {
   "cell_type": "code",
   "execution_count": 10,
   "id": "bddb57fe",
   "metadata": {},
   "outputs": [
    {
     "data": {
      "text/plain": [
       "'C:\\\\Users\\\\Tunist\\\\anaconda3\\\\envs\\\\machine_learning\\\\lib\\\\site-packages\\\\pybullet_data'"
      ]
     },
     "execution_count": 10,
     "metadata": {},
     "output_type": "execute_result"
    }
   ],
   "source": [
    "# where the pybullet library stores all its datafiles\n",
    "pd.getDataPath()"
   ]
  },
  {
   "cell_type": "code",
   "execution_count": 38,
   "id": "dd77e08c",
   "metadata": {},
   "outputs": [],
   "source": [
    "# # explore the files to find URDF standard example files, such as r2d2.urdf\n",
    "# robot = p.loadURDF('C:\\\\Users\\\\Tunist\\\\anaconda3\\\\envs\\\\machine_learning\\\\lib\\\\site-packages\\\\pybullet_data\\\\r2d2.urdf')\n",
    "rob2 = p.loadURDF('test.urdf')"
   ]
  },
  {
   "cell_type": "code",
   "execution_count": 12,
   "id": "8e9e8ff1",
   "metadata": {},
   "outputs": [],
   "source": [
    "# final step is to run the simulation\n",
    "# set real time mode (pass 1 as parameter because it is the first simulation??)\n",
    "p.setRealTimeSimulation(1)"
   ]
  },
  {
   "cell_type": "code",
   "execution_count": 13,
   "id": "61c9d173",
   "metadata": {},
   "outputs": [
    {
     "name": "stdout",
     "output_type": "stream",
     "text": [
      "D:\\Programming\\BScComputerScience\\Modules\\AI\\midterm\n"
     ]
    }
   ],
   "source": [
    "import os\n",
    "print(os.getcwd())"
   ]
  },
  {
   "cell_type": "code",
   "execution_count": 33,
   "id": "37b739ea",
   "metadata": {},
   "outputs": [],
   "source": [
    "# reset position of robot to centre of screen\n",
    "p.resetBasePositionAndOrientation(rob1, [0,0,0.2], [0,0,0,1])"
   ]
  },
  {
   "cell_type": "code",
   "execution_count": 41,
   "id": "b6688fec",
   "metadata": {},
   "outputs": [],
   "source": [
    "# enable movement of joint (see manual)\n",
    "# id of robot (variable name), id of joint (incremental), target velocity\n",
    "p.setJointMotorControl2(rob2, 0, controlMode=p.VELOCITY_CONTROL, targetVelocity=1) # 0 = first joint\n",
    "p.setJointMotorControl2(rob2, 1, controlMode=p.VELOCITY_CONTROL, targetVelocity=2) # 1 = second joint\n",
    "# p.setJointMotorControl2(rob1, 0, controlMode=p.POSITION_CONTROL, targetPosition=0.5, targetVelocity=20)"
   ]
  },
  {
   "cell_type": "code",
   "execution_count": 36,
   "id": "5cb61306",
   "metadata": {},
   "outputs": [
    {
     "data": {
      "text/plain": [
       "(0,\n",
       " b'base_to_sub',\n",
       " 0,\n",
       " 7,\n",
       " 6,\n",
       " 1,\n",
       " 0.0,\n",
       " 0.0,\n",
       " 0.0,\n",
       " 10.0,\n",
       " 10.0,\n",
       " 1.0,\n",
       " b'sub_link',\n",
       " (1.0, 0.0, 0.0),\n",
       " (0.5, 0.0, 0.0),\n",
       " (0.0, 0.0, 0.0, 1.0),\n",
       " -1)"
      ]
     },
     "execution_count": 36,
     "metadata": {},
     "output_type": "execute_result"
    }
   ],
   "source": [
    "# get information about a joint\n",
    "p.getJointInfo(rob1, 0)"
   ]
  },
  {
   "cell_type": "code",
   "execution_count": 47,
   "id": "24440678",
   "metadata": {},
   "outputs": [],
   "source": [
    "# for a robot with multiple joints, iterate over them and set velocity etc like this:\n",
    "numJoints = p.getNumJoints(rob2)"
   ]
  },
  {
   "cell_type": "code",
   "execution_count": 48,
   "id": "1909bc67",
   "metadata": {},
   "outputs": [],
   "source": [
    "for i in range(numJoints):\n",
    "    p.setJointMotorControl2(rob2, i, controlMode=p.VELOCITY_CONTROL, targetVelocity=2)"
   ]
  },
  {
   "cell_type": "code",
   "execution_count": null,
   "id": "f9525684",
   "metadata": {},
   "outputs": [],
   "source": []
  }
 ],
 "metadata": {
  "kernelspec": {
   "display_name": "Python 3 (ipykernel)",
   "language": "python",
   "name": "python3"
  },
  "language_info": {
   "codemirror_mode": {
    "name": "ipython",
    "version": 3
   },
   "file_extension": ".py",
   "mimetype": "text/x-python",
   "name": "python",
   "nbconvert_exporter": "python",
   "pygments_lexer": "ipython3",
   "version": "3.7.7"
  }
 },
 "nbformat": 4,
 "nbformat_minor": 5
}
