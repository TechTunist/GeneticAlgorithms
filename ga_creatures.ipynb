{
 "cells": [
  {
   "cell_type": "markdown",
   "id": "b75cb91d",
   "metadata": {},
   "source": [
    "### IDEA: Experiment with the golden ratio for creating creatures"
   ]
  },
  {
   "cell_type": "code",
   "execution_count": 1,
   "id": "7d99fc68",
   "metadata": {},
   "outputs": [],
   "source": [
    "import pybullet as p\n",
    "import pybullet_data as pd"
   ]
  },
  {
   "cell_type": "code",
   "execution_count": 2,
   "id": "a1ad9078",
   "metadata": {},
   "outputs": [
    {
     "data": {
      "text/plain": [
       "0"
      ]
     },
     "execution_count": 2,
     "metadata": {},
     "output_type": "execute_result"
    }
   ],
   "source": [
    "# connect to a simulation environment\n",
    "# p.GUI is a real-time environment for visualisation purposes\n",
    "# for running myriad of epochs, an \"offline\" environment is needed\n",
    "\n",
    "p.connect(p.GUI)"
   ]
  },
  {
   "cell_type": "code",
   "execution_count": 3,
   "id": "736cafb0",
   "metadata": {},
   "outputs": [],
   "source": [
    "# create a floor using prefixed geometries; GEOM_PLANE\n",
    "floor_shape = p.createCollisionShape(p.GEOM_PLANE)"
   ]
  },
  {
   "cell_type": "code",
   "execution_count": 4,
   "id": "d43a5496",
   "metadata": {},
   "outputs": [],
   "source": [
    "# place the floor into the environment\n",
    "# input floor_shape x2 (for visual gemoetry and collision geometry)\n",
    "\n",
    "floor = p.createMultiBody(floor_shape, floor_shape)"
   ]
  },
  {
   "cell_type": "code",
   "execution_count": 5,
   "id": "374a08fa",
   "metadata": {},
   "outputs": [],
   "source": [
    "# create new geometry for new object we will create\n",
    "# create GEOM_BOX and give it dimensions (halfExtents)\n",
    "\n",
    "# box_shape = p.createCollisionShape(p.GEOM_BOX, halfExtents=[1,1,1]) # 1,1,1 = cube"
   ]
  },
  {
   "cell_type": "code",
   "execution_count": 6,
   "id": "20569f6f",
   "metadata": {},
   "outputs": [],
   "source": [
    "# create the box\n",
    "# box = p.createMultiBody(box_shape, box_shape)"
   ]
  },
  {
   "cell_type": "code",
   "execution_count": 7,
   "id": "a353e3d2",
   "metadata": {},
   "outputs": [],
   "source": [
    "# add gravity x,z,y values\n",
    "p.setGravity(0,0,-10) # -10 on the y value to simulate real gravity pulling downward"
   ]
  },
  {
   "cell_type": "code",
   "execution_count": 8,
   "id": "c54abce8",
   "metadata": {},
   "outputs": [
    {
     "data": {
      "text/plain": [
       "'C:\\\\Users\\\\Tunist\\\\anaconda3\\\\envs\\\\machine_learning\\\\lib\\\\site-packages\\\\pybullet_data'"
      ]
     },
     "execution_count": 8,
     "metadata": {},
     "output_type": "execute_result"
    }
   ],
   "source": [
    "# where the pybullet library stores all its datafiles\n",
    "pd.getDataPath()"
   ]
  },
  {
   "cell_type": "code",
   "execution_count": 9,
   "id": "061be254",
   "metadata": {},
   "outputs": [
    {
     "ename": "error",
     "evalue": "Cannot load URDF file.",
     "output_type": "error",
     "traceback": [
      "\u001b[1;31m---------------------------------------------------------------------------\u001b[0m",
      "\u001b[1;31merror\u001b[0m                                     Traceback (most recent call last)",
      "\u001b[1;32m~\\AppData\\Local\\Temp\\ipykernel_25460\\402071550.py\u001b[0m in \u001b[0;36m<module>\u001b[1;34m\u001b[0m\n\u001b[0;32m      1\u001b[0m \u001b[1;31m# # explore the files to find URDF standard example files, such as r2d2.urdf\u001b[0m\u001b[1;33m\u001b[0m\u001b[1;33m\u001b[0m\u001b[1;33m\u001b[0m\u001b[0m\n\u001b[0;32m      2\u001b[0m \u001b[1;31m# robot = p.loadURDF('C:\\\\Users\\\\Tunist\\\\anaconda3\\\\envs\\\\machine_learning\\\\lib\\\\site-packages\\\\pybullet_data\\\\r2d2.urdf')\u001b[0m\u001b[1;33m\u001b[0m\u001b[1;33m\u001b[0m\u001b[1;33m\u001b[0m\u001b[0m\n\u001b[1;32m----> 3\u001b[1;33m \u001b[0mtest\u001b[0m \u001b[1;33m=\u001b[0m \u001b[0mp\u001b[0m\u001b[1;33m.\u001b[0m\u001b[0mloadURDF\u001b[0m\u001b[1;33m(\u001b[0m\u001b[1;34m'test.urdf'\u001b[0m\u001b[1;33m)\u001b[0m\u001b[1;33m\u001b[0m\u001b[1;33m\u001b[0m\u001b[0m\n\u001b[0m",
      "\u001b[1;31merror\u001b[0m: Cannot load URDF file."
     ]
    }
   ],
   "source": [
    "# # explore the files to find URDF standard example files, such as r2d2.urdf\n",
    "# robot = p.loadURDF('C:\\\\Users\\\\Tunist\\\\anaconda3\\\\envs\\\\machine_learning\\\\lib\\\\site-packages\\\\pybullet_data\\\\r2d2.urdf')\n",
    "test = p.loadURDF('test.urdf')"
   ]
  },
  {
   "cell_type": "code",
   "execution_count": null,
   "id": "01ab11cf",
   "metadata": {},
   "outputs": [],
   "source": [
    "# final step is to run the simulation\n",
    "# set real time mode (pass 1 as parameter because it is the first simulation??)\n",
    "p.setRealTimeSimulation(1)"
   ]
  },
  {
   "cell_type": "code",
   "execution_count": null,
   "id": "41a0c4b0",
   "metadata": {},
   "outputs": [],
   "source": [
    "import os\n",
    "print(os.getcwd())"
   ]
  },
  {
   "cell_type": "code",
   "execution_count": null,
   "id": "a4bd05b7",
   "metadata": {},
   "outputs": [],
   "source": []
  }
 ],
 "metadata": {
  "kernelspec": {
   "display_name": "Python 3 (ipykernel)",
   "language": "python",
   "name": "python3"
  },
  "language_info": {
   "codemirror_mode": {
    "name": "ipython",
    "version": 3
   },
   "file_extension": ".py",
   "mimetype": "text/x-python",
   "name": "python",
   "nbconvert_exporter": "python",
   "pygments_lexer": "ipython3",
   "version": "3.7.7"
  }
 },
 "nbformat": 4,
 "nbformat_minor": 5
}
