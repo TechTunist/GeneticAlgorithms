{
 "cells": [
  {
   "cell_type": "code",
   "execution_count": 1,
   "id": "f3513bdc",
   "metadata": {},
   "outputs": [],
   "source": [
    "from xml.dom.minidom import getDOMImplementation"
   ]
  },
  {
   "cell_type": "code",
   "execution_count": 11,
   "id": "3942340b",
   "metadata": {},
   "outputs": [],
   "source": [
    "# DOM is heirarchical data structure we can use to represent XML\n",
    "# create DOM implementation\n",
    "domimpl = getDOMImplementation()"
   ]
  },
  {
   "cell_type": "code",
   "execution_count": 12,
   "id": "d4461d78",
   "metadata": {},
   "outputs": [],
   "source": [
    "# create a new DOM from the implementation\n",
    "adom = domimpl.createDocument(None, \"starter\", None)"
   ]
  },
  {
   "cell_type": "code",
   "execution_count": 13,
   "id": "9a4770dd",
   "metadata": {},
   "outputs": [
    {
     "data": {
      "text/plain": [
       "'<geometry/>\\n'"
      ]
     },
     "execution_count": 13,
     "metadata": {},
     "output_type": "execute_result"
    }
   ],
   "source": [
    "# to create geometry tag\n",
    "g_tag = adom.createElement(\"geometry\")\n",
    "\n",
    "# print out the g_tag\n",
    "g_tag.toprettyxml()"
   ]
  },
  {
   "cell_type": "code",
   "execution_count": 14,
   "id": "0bd2e227",
   "metadata": {},
   "outputs": [
    {
     "data": {
      "text/plain": [
       "'<geometry length=\"10\"/>\\n'"
      ]
     },
     "execution_count": 14,
     "metadata": {},
     "output_type": "execute_result"
    }
   ],
   "source": [
    "# to add an atrribute to the g_tag\n",
    "g_tag.setAttribute(\"length\", \"10\")\n",
    "\n",
    "# print out the g_tag\n",
    "g_tag.toprettyxml()"
   ]
  },
  {
   "cell_type": "code",
   "execution_count": 15,
   "id": "90664641",
   "metadata": {},
   "outputs": [
    {
     "name": "stdout",
     "output_type": "stream",
     "text": [
      "<geometry length=\"10\">\n",
      "\t<weight/>\n",
      "</geometry>\n",
      "\n"
     ]
    }
   ],
   "source": [
    "# to create a child of a tag\n",
    "w_tag = adom.createElement(\"weight\")\n",
    "\n",
    "# append w_tag to g_tag\n",
    "g_tag.appendChild(w_tag)\n",
    "\n",
    "# format printout nicely\n",
    "print(g_tag.toprettyxml())"
   ]
  },
  {
   "cell_type": "code",
   "execution_count": null,
   "id": "4dd827c5",
   "metadata": {},
   "outputs": [],
   "source": []
  },
  {
   "cell_type": "code",
   "execution_count": null,
   "id": "31d41f50",
   "metadata": {},
   "outputs": [],
   "source": []
  }
 ],
 "metadata": {
  "kernelspec": {
   "display_name": "Python 3 (ipykernel)",
   "language": "python",
   "name": "python3"
  },
  "language_info": {
   "codemirror_mode": {
    "name": "ipython",
    "version": 3
   },
   "file_extension": ".py",
   "mimetype": "text/x-python",
   "name": "python",
   "nbconvert_exporter": "python",
   "pygments_lexer": "ipython3",
   "version": "3.7.7"
  }
 },
 "nbformat": 4,
 "nbformat_minor": 5
}
