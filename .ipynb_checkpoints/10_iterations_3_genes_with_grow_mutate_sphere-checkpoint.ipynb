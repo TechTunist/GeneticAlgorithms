{
 "cells": [
  {
   "cell_type": "code",
   "execution_count": 1,
   "id": "9ad51af6",
   "metadata": {},
   "outputs": [],
   "source": [
    "import pandas as pd\n",
    "import matplotlib.pyplot as plt\n",
    "import glob\n",
    "import numpy as np"
   ]
  },
  {
   "cell_type": "code",
   "execution_count": null,
   "id": "de27c04c",
   "metadata": {},
   "outputs": [],
   "source": [
    "# 1st hyperparameter settings\n",
    "sphere_pop100_mutrate0_1_mutrange0_5 = glob.glob('csv_results/10_iterations_3_genes_grow_mutate_added/sphere_experiment_pop100_mutrate0.1_mutrange0.5/*.csv')\n",
    "csv_list = []\n",
    "\n",
    "for csv_file in sphere_pop100_mutrate0_1_mutrange0_5:\n",
    "    df = pd.read_csv(csv_file)\n",
    "    csv_list.append(df)\n",
    "    \n",
    "sphere_pop100_mutrate0_1_mutrange0_5_df = pd.concat(csv_list, ignore_index=True)\n",
    "\n",
    "sphere_pop100_mutrate0_1_mutrange0_5_df.head(5)"
   ]
  }
 ],
 "metadata": {
  "kernelspec": {
   "display_name": "Python 3 (ipykernel)",
   "language": "python",
   "name": "python3"
  },
  "language_info": {
   "codemirror_mode": {
    "name": "ipython",
    "version": 3
   },
   "file_extension": ".py",
   "mimetype": "text/x-python",
   "name": "python",
   "nbconvert_exporter": "python",
   "pygments_lexer": "ipython3",
   "version": "3.7.7"
  }
 },
 "nbformat": 4,
 "nbformat_minor": 5
}
